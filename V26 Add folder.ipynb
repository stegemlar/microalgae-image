{
 "cells": [
  {
   "cell_type": "code",
   "execution_count": 1,
   "id": "6d9827be-380b-4735-8eb5-900744f51c0e",
   "metadata": {},
   "outputs": [],
   "source": [
    "import os\n",
    "import shutil\n",
    "\n",
    "def organize_images(base_dir):\n",
    "    \"\"\"\n",
    "    Organizes image files into a new subfolder named 'Images' within each subdirectory of the base directory.\n",
    "\n",
    "    Args:\n",
    "    base_dir (str): The path to the directory containing date-named subfolders with image files.\n",
    "    \"\"\"\n",
    "    # List all directories in the base directory\n",
    "    for folder_name in os.listdir(base_dir):\n",
    "        folder_path = os.path.join(base_dir, folder_name)\n",
    "        \n",
    "        if os.path.isdir(folder_path):\n",
    "            # Create 'Images' subfolder if it doesn't already exist\n",
    "            images_subfolder_path = os.path.join(folder_path, \"Images\")\n",
    "            if not os.path.exists(images_subfolder_path):\n",
    "                os.mkdir(images_subfolder_path)\n",
    "            \n",
    "            # Move all image files to the 'Images' subfolder\n",
    "            for file_name in os.listdir(folder_path):\n",
    "                file_path = os.path.join(folder_path, file_name)\n",
    "                if os.path.isfile(file_path) and file_name.lower().endswith(('.png', '.jpg', '.jpeg', '.bmp', '.tif')):\n",
    "                    # Move the file\n",
    "                    shutil.move(file_path, images_subfolder_path)\n",
    "                    \n",
    "\n",
    "if __name__ == \"__main__\":\n",
    "    base_directory = \"C:/Users/lsest/OneDrive - Danmarks Tekniske Universitet/Experiments/V28 Online image Germination/Segmented_CNN/Part1\"\n",
    "    organize_images(base_directory)\n"
   ]
  },
  {
   "cell_type": "code",
   "execution_count": null,
   "id": "81a28d58-d823-46dc-b2b3-408a4a4b476c",
   "metadata": {},
   "outputs": [],
   "source": []
  }
 ],
 "metadata": {
  "kernelspec": {
   "display_name": "Python 3 (ipykernel)",
   "language": "python",
   "name": "python3"
  },
  "language_info": {
   "codemirror_mode": {
    "name": "ipython",
    "version": 3
   },
   "file_extension": ".py",
   "mimetype": "text/x-python",
   "name": "python",
   "nbconvert_exporter": "python",
   "pygments_lexer": "ipython3",
   "version": "3.8.18"
  }
 },
 "nbformat": 4,
 "nbformat_minor": 5
}
